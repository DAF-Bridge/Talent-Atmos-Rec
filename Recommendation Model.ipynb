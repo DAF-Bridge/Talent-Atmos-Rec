{
 "cells": [
  {
   "cell_type": "markdown",
   "id": "5c727449",
   "metadata": {},
   "source": [
    "Prepare Data for training"
   ]
  },
  {
   "cell_type": "code",
   "execution_count": 1,
   "id": "2e130a2c752a1cdb",
   "metadata": {
    "ExecuteTime": {
     "end_time": "2025-03-17T04:03:21.602512Z",
     "start_time": "2025-03-17T04:03:20.521973Z"
    }
   },
   "outputs": [
    {
     "data": {
      "text/html": [
       "<div>\n",
       "<style scoped>\n",
       "    .dataframe tbody tr th:only-of-type {\n",
       "        vertical-align: middle;\n",
       "    }\n",
       "\n",
       "    .dataframe tbody tr th {\n",
       "        vertical-align: top;\n",
       "    }\n",
       "\n",
       "    .dataframe thead th {\n",
       "        text-align: right;\n",
       "    }\n",
       "</style>\n",
       "<table border=\"1\" class=\"dataframe\">\n",
       "  <thead>\n",
       "    <tr style=\"text-align: right;\">\n",
       "      <th></th>\n",
       "      <th>userId</th>\n",
       "      <th>categories</th>\n",
       "    </tr>\n",
       "  </thead>\n",
       "  <tbody>\n",
       "    <tr>\n",
       "      <th>0</th>\n",
       "      <td>31de82ba-c5db-4c0a-9f77-61b6b7f7c92e</td>\n",
       "      <td>[8]</td>\n",
       "    </tr>\n",
       "    <tr>\n",
       "      <th>1</th>\n",
       "      <td>48a18dd9-48c3-45a5-b4f3-e8d7a60e2910</td>\n",
       "      <td>[8]</td>\n",
       "    </tr>\n",
       "  </tbody>\n",
       "</table>\n",
       "</div>"
      ],
      "text/plain": [
       "                                 userId categories\n",
       "0  31de82ba-c5db-4c0a-9f77-61b6b7f7c92e        [8]\n",
       "1  48a18dd9-48c3-45a5-b4f3-e8d7a60e2910        [8]"
      ]
     },
     "execution_count": 1,
     "metadata": {},
     "output_type": "execute_result"
    }
   ],
   "source": [
    "import os\n",
    "import requests\n",
    "import pandas as pd\n",
    "from pandas import json_normalize\n",
    "from decouple import config\n",
    "from dotenv import load_dotenv\n",
    "load_dotenv()\n",
    "                                                        \n",
    "# url = os.environ.get(\"EXTERNAL_URL\") + '/events'\n",
    "url = \"http://localhost:8080/users/user-preference/list\"\n",
    "payload={}\n",
    "headers={}\n",
    "\n",
    "response=requests.request(\"GET\",url,headers=headers,data=payload)\n",
    "\n",
    "users=json_normalize(response.json())\n",
    "\n",
    "data_users=users.iloc[0]\n",
    "\n",
    "users_df = pd.DataFrame(data_users)\n",
    "\n",
    "# df_transposed = users_df.transpose()\n",
    "new_data = []\n",
    "for i in range(len(users_df[0]['userId'])):\n",
    "    userId = users_df[0]['userId'][i]\n",
    "    categories = users_df[0]['categories'][i]\n",
    "\n",
    "    new_data.append({\n",
    "        \"userId\": userId,\n",
    "        \"categories\": categories\n",
    "    })\n",
    "\n",
    "new_df = pd.DataFrame(new_data)\n",
    "\n",
    "# print(new_df)\n",
    "new_df.head()"
   ]
  },
  {
   "cell_type": "code",
   "execution_count": 2,
   "id": "769855c0",
   "metadata": {},
   "outputs": [
    {
     "data": {
      "text/html": [
       "<div>\n",
       "<style scoped>\n",
       "    .dataframe tbody tr th:only-of-type {\n",
       "        vertical-align: middle;\n",
       "    }\n",
       "\n",
       "    .dataframe tbody tr th {\n",
       "        vertical-align: top;\n",
       "    }\n",
       "\n",
       "    .dataframe thead th {\n",
       "        text-align: right;\n",
       "    }\n",
       "</style>\n",
       "<table border=\"1\" class=\"dataframe\">\n",
       "  <thead>\n",
       "    <tr style=\"text-align: right;\">\n",
       "      <th></th>\n",
       "      <th>id</th>\n",
       "      <th>name</th>\n",
       "      <th>categories</th>\n",
       "    </tr>\n",
       "  </thead>\n",
       "  <tbody>\n",
       "    <tr>\n",
       "      <th>0</th>\n",
       "      <td>24</td>\n",
       "      <td>CampusWithCMU (UPDATED!!!)</td>\n",
       "      <td>[5, 11, 12, 13]</td>\n",
       "    </tr>\n",
       "  </tbody>\n",
       "</table>\n",
       "</div>"
      ],
      "text/plain": [
       "   id                        name       categories\n",
       "0  24  CampusWithCMU (UPDATED!!!)  [5, 11, 12, 13]"
      ]
     },
     "execution_count": 2,
     "metadata": {},
     "output_type": "execute_result"
    }
   ],
   "source": [
    "url = \"http://localhost:8080/users/event-preference/list\"\n",
    "payload={}\n",
    "headers={}\n",
    "\n",
    "response=requests.request(\"GET\",url,headers=headers,data=payload)\n",
    "\n",
    "events=json_normalize(response.json())\n",
    "\n",
    "data_eventss=events.iloc[0]\n",
    "\n",
    "events_df = pd.DataFrame(data_eventss)\n",
    "\n",
    "new_events_data = []\n",
    "for i in range(len(events_df[0]['id'])):\n",
    "    Id = events_df[0]['id'][i]\n",
    "    name = events_df[0]['name'][i]\n",
    "    categories = events_df[0]['categories'][i]\n",
    "\n",
    "    new_events_data.append({\n",
    "        \"id\": Id,\n",
    "        \"name\": name,\n",
    "        \"categories\": categories\n",
    "    })\n",
    "\n",
    "events_train_df = pd.DataFrame(new_events_data)\n",
    "\n",
    "# print(new_df)\n",
    "events_train_df.head()"
   ]
  },
  {
   "cell_type": "markdown",
   "id": "d81d44f5",
   "metadata": {},
   "source": [
    "category in the system"
   ]
  },
  {
   "cell_type": "code",
   "execution_count": null,
   "id": "2b096128d1c7d591",
   "metadata": {
    "ExecuteTime": {
     "end_time": "2025-03-17T03:44:54.670515Z",
     "start_time": "2025-03-17T03:44:53.958408Z"
    }
   },
   "outputs": [
    {
     "name": "stdout",
     "output_type": "stream",
     "text": [
      "['incubation', 'networking', 'forum', 'exhibition', 'competition', 'workshop', 'campaign', 'esg', 'environment', 'social', 'governance']\n"
     ]
    }
   ],
   "source": [
    "url_cat=os.environ.get(\"EXTERNAL_URL\") + '/events/categories/list'\n",
    "payload_cat={}\n",
    "headers_cat={}\n",
    "\n",
    "response_cat=requests.request(\"GET\", url_cat ,headers=headers_cat, data=payload_cat)\n",
    "df_cat=json_normalize(response_cat.json())\n",
    "\n",
    "categories = []\n",
    "for i in range(len(df_cat['categories'][0])):\n",
    "    # print(df_cat['categories'][0][i]['label'])\n",
    "    categories.append(df_cat['categories'][0][i]['label'])\n",
    "\n",
    "# print(categories)\n",
    "cat = categories[2:]\n",
    "print(cat)"
   ]
  },
  {
   "cell_type": "code",
   "execution_count": 3,
   "id": "a1aea0f3",
   "metadata": {},
   "outputs": [
    {
     "name": "stdout",
     "output_type": "stream",
     "text": [
      "RMSE: 0.0023\n",
      "MAE: 0.0020\n",
      "                                 userId  eventId                   eventName  \\\n",
      "0  31de82ba-c5db-4c0a-9f77-61b6b7f7c92e       24  CampusWithCMU (UPDATED!!!)   \n",
      "0  48a18dd9-48c3-45a5-b4f3-e8d7a60e2910       24  CampusWithCMU (UPDATED!!!)   \n",
      "\n",
      "      score  \n",
      "0  0.958962  \n",
      "0  0.875223  \n"
     ]
    }
   ],
   "source": [
    "import torch\n",
    "import torch.nn as nn\n",
    "import torch.optim as optim\n",
    "import numpy as np\n",
    "import pandas as pd\n",
    "from sklearn.metrics import mean_squared_error, mean_absolute_error\n",
    "\n",
    "# users_df = pd.DataFrame(data_users)\n",
    "# events_df = pd.DataFrame(data_events)\n",
    "\n",
    "users_df = new_df\n",
    "events_df = events_train_df\n",
    "\n",
    "user_map = {uid: idx for idx, uid in enumerate(users_df[\"userId\"])}\n",
    "event_map = {eid: idx for idx, eid in enumerate(events_df[\"id\"])}\n",
    "\n",
    "num_users = len(user_map)\n",
    "num_events = len(event_map)\n",
    "embedding_dim = 16  # Size of the latent space\n",
    "\n",
    "# Create Interaction Matrix (Random)\n",
    "interaction_matrix = torch.rand((num_users, num_events))\n",
    "\n",
    "class NCFModel(nn.Module):\n",
    "    def __init__(self, num_users, num_events, embedding_dim):\n",
    "        super(NCFModel, self).__init__()\n",
    "        self.user_emb = nn.Embedding(num_users, embedding_dim)\n",
    "        self.event_emb = nn.Embedding(num_events, embedding_dim)\n",
    "\n",
    "        self.mlp = nn.Sequential(\n",
    "            nn.Linear(embedding_dim * 2, 64),\n",
    "            nn.ReLU(),\n",
    "            nn.Linear(64, 32),\n",
    "            nn.ReLU(),\n",
    "            nn.Linear(32, 1)\n",
    "        )\n",
    "    \n",
    "    def forward(self, user_ids, event_ids):\n",
    "        user_vecs = self.user_emb(user_ids)\n",
    "        event_vecs = self.event_emb(event_ids)\n",
    "        x = torch.cat([user_vecs, event_vecs], dim=1)\n",
    "        return self.mlp(x).squeeze(1)\n",
    "        # return (user_vecs * event_vecs).sum(1)  # Dot product\n",
    "\n",
    "# Initialize Model\n",
    "model = NCFModel(num_users, num_events, embedding_dim)\n",
    "optimizer = optim.Adam(model.parameters(), lr=0.01)\n",
    "loss_fn = nn.MSELoss()\n",
    "\n",
    "# Prepare Training Data\n",
    "# user_ids = torch.tensor([user_map[uid] for uid in users_df[\"userId\"]], dtype=torch.long)\n",
    "# event_ids = torch.tensor([event_map[eid] for eid in events_df[\"id\"]], dtype=torch.long)\n",
    "# targets = interaction_matrix[user_ids, event_ids]\n",
    "\n",
    "user_ids, event_ids = torch.meshgrid(\n",
    "    torch.arange(num_users), torch.arange(num_events), indexing=\"ij\"\n",
    ")\n",
    "user_ids, event_ids = user_ids.flatten(), event_ids.flatten()\n",
    "targets = interaction_matrix[user_ids, event_ids]\n",
    "\n",
    "\n",
    "# Train Model\n",
    "losses = []\n",
    "for epoch in range(100):\n",
    "    model.train()\n",
    "    optimizer.zero_grad()\n",
    "    preds = model(user_ids, event_ids)\n",
    "    loss = loss_fn(preds, targets)\n",
    "    loss.backward()\n",
    "    optimizer.step()\n",
    "\n",
    "    losses.append(loss.item())\n",
    "\n",
    "# Predict Recommendations\n",
    "model.eval()\n",
    "\n",
    "# def new_func(recommended_events):\n",
    "#     recommended_events = recommended_events.sort_values(by=\"score\", ascending=False)\n",
    "#     return recommended_events\n",
    "\n",
    "with torch.no_grad():\n",
    "    scores = model(\n",
    "        user_ids.repeat_interleave(num_events),  # Expands user IDs\n",
    "        torch.arange(num_events).repeat(num_users)  # Matches event IDs\n",
    "    )\n",
    "    # Reshape scores into a DataFrame format\n",
    "    score_matrix = scores.view(num_users, num_events).numpy()  # Reshape into (users x events)\n",
    "\n",
    "    preds = model(user_ids, event_ids).numpy()\n",
    "    targets_np = targets.numpy()\n",
    "\n",
    "    # Create a recommendations DataFrame\n",
    "    recommendations = []\n",
    "    for i, user_id in enumerate(users_df[\"userId\"]):\n",
    "        user_scores = score_matrix[i]\n",
    "        user_recommendations = pd.DataFrame({\n",
    "            \"userId\": user_id,\n",
    "            \"eventId\": events_df[\"id\"],\n",
    "            \"eventName\": events_df[\"name\"],\n",
    "            \"score\": user_scores\n",
    "        }).sort_values(by=\"score\", ascending=False)  # Sort by score\n",
    "\n",
    "        recommendations.append(user_recommendations)\n",
    "\n",
    "    recommended_events = pd.concat(recommendations)\n",
    "\n",
    "rmse = np.sqrt(mean_squared_error(targets_np, preds))\n",
    "mae = mean_absolute_error(targets_np, preds)\n",
    "\n",
    "print(f\"RMSE: {rmse:.4f}\")\n",
    "print(f\"MAE: {mae:.4f}\")\n",
    "\n",
    "# Display Recommendations\n",
    "print(recommended_events)"
   ]
  },
  {
   "cell_type": "code",
   "execution_count": 4,
   "id": "ab82adbc",
   "metadata": {},
   "outputs": [
    {
     "data": {
      "image/png": "[encoded data removed]",
      "text/plain": [
       "<Figure size 640x480 with 1 Axes>"
      ]
     },
     "metadata": {},
     "output_type": "display_data"
    }
   ],
   "source": [
    "# %pip install matplotlib\n",
    "import matplotlib.pyplot as plt\n",
    "\n",
    "plt.plot(range(1, 101), losses, label=\"Training Loss\")\n",
    "plt.xlabel(\"Epoch\")\n",
    "plt.ylabel(\"Loss\")\n",
    "plt.title(\"Loss Function over Epochs\")\n",
    "plt.legend()\n",
    "plt.show()"
   ]
  },
  {
   "cell_type": "code",
   "execution_count": 68,
   "id": "60c15cd0",
   "metadata": {},
   "outputs": [
    {
     "data": {
      "text/plain": [
       "tensor([[0.1051],\n",
       "        [0.2559]])"
      ]
     },
     "execution_count": 68,
     "metadata": {},
     "output_type": "execute_result"
    }
   ],
   "source": [
    "interaction_matrix"
   ]
  },
  {
   "cell_type": "code",
   "execution_count": 5,
   "id": "a15c762a",
   "metadata": {},
   "outputs": [
    {
     "name": "stdout",
     "output_type": "stream",
     "text": [
      "User: 31de82ba-c5db-4c0a-9f77-61b6b7f7c92e\n",
      "                                 userId  eventId                   eventName  \\\n",
      "0  31de82ba-c5db-4c0a-9f77-61b6b7f7c92e       24  CampusWithCMU (UPDATED!!!)   \n",
      "\n",
      "      score  \n",
      "0  0.958962  \n",
      "User: 48a18dd9-48c3-45a5-b4f3-e8d7a60e2910\n",
      "                                 userId  eventId                   eventName  \\\n",
      "0  48a18dd9-48c3-45a5-b4f3-e8d7a60e2910       24  CampusWithCMU (UPDATED!!!)   \n",
      "\n",
      "      score  \n",
      "0  0.875223  \n"
     ]
    }
   ],
   "source": [
    "grouped_events = recommended_events.groupby('userId')\n",
    "for user_id, group in grouped_events:\n",
    "    print(f\"User: {user_id}\")\n",
    "    print(group)"
   ]
  },
  {
   "cell_type": "code",
   "execution_count": 6,
   "id": "21e14025",
   "metadata": {},
   "outputs": [],
   "source": [
    "torch.save(model.state_dict(), \"ncf_model.pth\")"
   ]
  }
 ],
 "metadata": {
  "kernelspec": {
   "display_name": "venv",
   "language": "python",
   "name": "python3"
  },
  "language_info": {
   "codemirror_mode": {
    "name": "ipython",
    "version": 3
   },
   "file_extension": ".py",
   "mimetype": "text/x-python",
   "name": "python",
   "nbconvert_exporter": "python",
   "pygments_lexer": "ipython3",
   "version": "3.12.0"
  }
 },
 "nbformat": 4,
 "nbformat_minor": 5
}
