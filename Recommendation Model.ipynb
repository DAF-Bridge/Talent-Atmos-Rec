{
 "cells": [
  {
   "cell_type": "markdown",
   "id": "5c727449",
   "metadata": {},
   "source": [
    "Prepare Data for training"
   ]
  },
  {
   "cell_type": "code",
   "execution_count": 1,
   "id": "2e130a2c752a1cdb",
   "metadata": {
    "ExecuteTime": {
     "end_time": "2025-03-17T04:03:21.602512Z",
     "start_time": "2025-03-17T04:03:20.521973Z"
    }
   },
   "outputs": [
    {
     "data": {
      "text/html": [
       "<div>\n",
       "<style scoped>\n",
       "    .dataframe tbody tr th:only-of-type {\n",
       "        vertical-align: middle;\n",
       "    }\n",
       "\n",
       "    .dataframe tbody tr th {\n",
       "        vertical-align: top;\n",
       "    }\n",
       "\n",
       "    .dataframe thead th {\n",
       "        text-align: right;\n",
       "    }\n",
       "</style>\n",
       "<table border=\"1\" class=\"dataframe\">\n",
       "  <thead>\n",
       "    <tr style=\"text-align: right;\">\n",
       "      <th></th>\n",
       "      <th>userId</th>\n",
       "      <th>categories</th>\n",
       "    </tr>\n",
       "  </thead>\n",
       "  <tbody>\n",
       "    <tr>\n",
       "      <th>0</th>\n",
       "      <td>8c3e5a4e-bee2-4e99-b14e-32268889ae61</td>\n",
       "      <td>[3, 7, 11]</td>\n",
       "    </tr>\n",
       "    <tr>\n",
       "      <th>1</th>\n",
       "      <td>3c471470-f13c-465c-9c58-83e72a59acce</td>\n",
       "      <td>[8]</td>\n",
       "    </tr>\n",
       "    <tr>\n",
       "      <th>2</th>\n",
       "      <td>d5e35c09-dba0-48ad-b999-aff073fb180e</td>\n",
       "      <td>[3, 11]</td>\n",
       "    </tr>\n",
       "    <tr>\n",
       "      <th>3</th>\n",
       "      <td>4f957568-93d2-458c-b7d4-5a6e218ef97a</td>\n",
       "      <td>[3, 7, 9, 11]</td>\n",
       "    </tr>\n",
       "  </tbody>\n",
       "</table>\n",
       "</div>"
      ],
      "text/plain": [
       "                                 userId     categories\n",
       "0  8c3e5a4e-bee2-4e99-b14e-32268889ae61     [3, 7, 11]\n",
       "1  3c471470-f13c-465c-9c58-83e72a59acce            [8]\n",
       "2  d5e35c09-dba0-48ad-b999-aff073fb180e        [3, 11]\n",
       "3  4f957568-93d2-458c-b7d4-5a6e218ef97a  [3, 7, 9, 11]"
      ]
     },
     "execution_count": 1,
     "metadata": {},
     "output_type": "execute_result"
    }
   ],
   "source": [
    "import os\n",
    "import requests\n",
    "import pandas as pd\n",
    "from pandas import json_normalize\n",
    "from decouple import config\n",
    "from dotenv import load_dotenv\n",
    "load_dotenv()\n",
    "                                                        \n",
    "url = os.environ.get(\"EXTERNAL_URL\") + '/users/user-preference/list'\n",
    "# url = \"http://localhost:8080/users/user-preference/list\"\n",
    "payload={}\n",
    "headers={}\n",
    "\n",
    "response=requests.request(\"GET\",url,headers=headers,data=payload)\n",
    "\n",
    "users=json_normalize(response.json())\n",
    "\n",
    "data_users=users.iloc[0]\n",
    "\n",
    "users_df = pd.DataFrame(data_users)\n",
    "\n",
    "# df_transposed = users_df.transpose()\n",
    "new_data = []\n",
    "for i in range(len(users_df[0]['userId'])):\n",
    "    userId = users_df[0]['userId'][i]\n",
    "    categories = users_df[0]['categories'][i]\n",
    "\n",
    "    new_data.append({\n",
    "        \"userId\": userId,\n",
    "        \"categories\": categories\n",
    "    })\n",
    "\n",
    "new_df = pd.DataFrame(new_data)\n",
    "\n",
    "# print(new_df)\n",
    "new_df.head()"
   ]
  },
  {
   "cell_type": "code",
   "execution_count": 2,
   "id": "769855c0",
   "metadata": {},
   "outputs": [
    {
     "data": {
      "text/html": [
       "<div>\n",
       "<style scoped>\n",
       "    .dataframe tbody tr th:only-of-type {\n",
       "        vertical-align: middle;\n",
       "    }\n",
       "\n",
       "    .dataframe tbody tr th {\n",
       "        vertical-align: top;\n",
       "    }\n",
       "\n",
       "    .dataframe thead th {\n",
       "        text-align: right;\n",
       "    }\n",
       "</style>\n",
       "<table border=\"1\" class=\"dataframe\">\n",
       "  <thead>\n",
       "    <tr style=\"text-align: right;\">\n",
       "      <th></th>\n",
       "      <th>id</th>\n",
       "      <th>name</th>\n",
       "      <th>categories</th>\n",
       "    </tr>\n",
       "  </thead>\n",
       "  <tbody>\n",
       "    <tr>\n",
       "      <th>0</th>\n",
       "      <td>2</td>\n",
       "      <td>Local Creator</td>\n",
       "      <td>[8, 12]</td>\n",
       "    </tr>\n",
       "    <tr>\n",
       "      <th>1</th>\n",
       "      <td>3</td>\n",
       "      <td>Rabbit Start Meetup: Quickathon ครั้งที่ 1</td>\n",
       "      <td>[4, 7]</td>\n",
       "    </tr>\n",
       "    <tr>\n",
       "      <th>2</th>\n",
       "      <td>4</td>\n",
       "      <td>ECOSOC Youth Forum</td>\n",
       "      <td>[5, 11, 12]</td>\n",
       "    </tr>\n",
       "  </tbody>\n",
       "</table>\n",
       "</div>"
      ],
      "text/plain": [
       "   id                                        name   categories\n",
       "0   2                               Local Creator      [8, 12]\n",
       "1   3  Rabbit Start Meetup: Quickathon ครั้งที่ 1       [4, 7]\n",
       "2   4                          ECOSOC Youth Forum  [5, 11, 12]"
      ]
     },
     "execution_count": 2,
     "metadata": {},
     "output_type": "execute_result"
    }
   ],
   "source": [
    "url_events = os.environ.get(\"EXTERNAL_URL\") + \"/users/event-preference/list\"\n",
    "payload={}\n",
    "headers={}\n",
    "\n",
    "response=requests.request(\"GET\",url_events,headers=headers,data=payload)\n",
    "\n",
    "events=json_normalize(response.json())\n",
    "\n",
    "data_eventss=events.iloc[0]\n",
    "\n",
    "events_df = pd.DataFrame(data_eventss)\n",
    "\n",
    "new_events_data = []\n",
    "for i in range(len(events_df[0]['id'])):\n",
    "    Id = events_df[0]['id'][i]\n",
    "    name = events_df[0]['name'][i]\n",
    "    categories = events_df[0]['categories'][i]\n",
    "\n",
    "    new_events_data.append({\n",
    "        \"id\": Id,\n",
    "        \"name\": name,\n",
    "        \"categories\": categories\n",
    "    })\n",
    "\n",
    "events_train_df = pd.DataFrame(new_events_data)\n",
    "\n",
    "# print(new_df)\n",
    "events_train_df.head()"
   ]
  },
  {
   "cell_type": "markdown",
   "id": "d81d44f5",
   "metadata": {},
   "source": [
    "category in the system"
   ]
  },
  {
   "cell_type": "code",
   "execution_count": 3,
   "id": "2b096128d1c7d591",
   "metadata": {
    "ExecuteTime": {
     "end_time": "2025-03-17T03:44:54.670515Z",
     "start_time": "2025-03-17T03:44:53.958408Z"
    }
   },
   "outputs": [
    {
     "name": "stdout",
     "output_type": "stream",
     "text": [
      "['incubation', 'networking', 'forum', 'exhibition', 'competition', 'workshop', 'campaign', 'esg', 'environment', 'social', 'governance']\n"
     ]
    }
   ],
   "source": [
    "url_cat=os.environ.get(\"EXTERNAL_URL\") + '/events/categories/list'\n",
    "payload_cat={}\n",
    "headers_cat={}\n",
    "\n",
    "response_cat=requests.request(\"GET\", url_cat ,headers=headers_cat, data=payload_cat)\n",
    "df_cat=json_normalize(response_cat.json())\n",
    "\n",
    "categories = []\n",
    "for i in range(len(df_cat['categories'][0])):\n",
    "    # print(df_cat['categories'][0][i]['label'])\n",
    "    categories.append(df_cat['categories'][0][i]['label'])\n",
    "\n",
    "# print(categories)\n",
    "cat = categories[2:]\n",
    "print(cat)"
   ]
  },
  {
   "cell_type": "code",
   "execution_count": 4,
   "id": "a1aea0f3",
   "metadata": {},
   "outputs": [
    {
     "name": "stdout",
     "output_type": "stream",
     "text": [
      "RMSE: 0.0007\n",
      "MAE: 0.0006\n",
      "                                 userId  eventId  \\\n",
      "1  8c3e5a4e-bee2-4e99-b14e-32268889ae61        3   \n",
      "0  8c3e5a4e-bee2-4e99-b14e-32268889ae61        2   \n",
      "2  8c3e5a4e-bee2-4e99-b14e-32268889ae61        4   \n",
      "0  3c471470-f13c-465c-9c58-83e72a59acce        2   \n",
      "1  3c471470-f13c-465c-9c58-83e72a59acce        3   \n",
      "2  3c471470-f13c-465c-9c58-83e72a59acce        4   \n",
      "0  d5e35c09-dba0-48ad-b999-aff073fb180e        2   \n",
      "2  d5e35c09-dba0-48ad-b999-aff073fb180e        4   \n",
      "1  d5e35c09-dba0-48ad-b999-aff073fb180e        3   \n",
      "2  4f957568-93d2-458c-b7d4-5a6e218ef97a        4   \n",
      "0  4f957568-93d2-458c-b7d4-5a6e218ef97a        2   \n",
      "1  4f957568-93d2-458c-b7d4-5a6e218ef97a        3   \n",
      "\n",
      "                                    eventName     score  \n",
      "1  Rabbit Start Meetup: Quickathon ครั้งที่ 1  0.947011  \n",
      "0                               Local Creator  0.908354  \n",
      "2                          ECOSOC Youth Forum  0.332356  \n",
      "0                               Local Creator  0.991889  \n",
      "1  Rabbit Start Meetup: Quickathon ครั้งที่ 1  0.389633  \n",
      "2                          ECOSOC Youth Forum  0.153142  \n",
      "0                               Local Creator  0.692402  \n",
      "2                          ECOSOC Youth Forum  0.575458  \n",
      "1  Rabbit Start Meetup: Quickathon ครั้งที่ 1  0.176798  \n",
      "2                          ECOSOC Youth Forum  0.457832  \n",
      "0                               Local Creator  0.041732  \n",
      "1  Rabbit Start Meetup: Quickathon ครั้งที่ 1  0.021431  \n"
     ]
    }
   ],
   "source": [
    "import torch\n",
    "import torch.nn as nn\n",
    "import torch.optim as optim\n",
    "import numpy as np\n",
    "import pandas as pd\n",
    "from sklearn.metrics import mean_squared_error, mean_absolute_error\n",
    "\n",
    "# users_df = pd.DataFrame(data_users)\n",
    "# events_df = pd.DataFrame(data_events)\n",
    "\n",
    "users_df = new_df\n",
    "events_df = events_train_df\n",
    "\n",
    "user_map = {uid: idx for idx, uid in enumerate(users_df[\"userId\"])}\n",
    "event_map = {eid: idx for idx, eid in enumerate(events_df[\"id\"])}\n",
    "\n",
    "num_users = len(user_map)\n",
    "num_events = len(event_map)\n",
    "embedding_dim = 16  # Size of the latent space\n",
    "\n",
    "# Create Interaction Matrix (Random)\n",
    "interaction_matrix = torch.rand((num_users, num_events))\n",
    "\n",
    "class NCFModel(nn.Module):\n",
    "    def __init__(self, num_users, num_events, embedding_dim):\n",
    "        super(NCFModel, self).__init__()\n",
    "        self.user_emb = nn.Embedding(num_users, embedding_dim)\n",
    "        self.event_emb = nn.Embedding(num_events, embedding_dim)\n",
    "\n",
    "        self.mlp = nn.Sequential(\n",
    "            nn.Linear(embedding_dim * 2, 64),\n",
    "            nn.ReLU(),\n",
    "            nn.Linear(64, 32),\n",
    "            nn.ReLU(),\n",
    "            nn.Linear(32, 1)\n",
    "        )\n",
    "    \n",
    "    def forward(self, user_ids, event_ids):\n",
    "        user_vecs = self.user_emb(user_ids)\n",
    "        event_vecs = self.event_emb(event_ids)\n",
    "        x = torch.cat([user_vecs, event_vecs], dim=1)\n",
    "        return self.mlp(x).squeeze(1)\n",
    "        # return (user_vecs * event_vecs).sum(1)  # Dot product\n",
    "\n",
    "# Initialize Model\n",
    "model = NCFModel(num_users, num_events, embedding_dim)\n",
    "optimizer = optim.Adam(model.parameters(), lr=0.01)\n",
    "loss_fn = nn.MSELoss()\n",
    "\n",
    "# Prepare Training Data\n",
    "# user_ids = torch.tensor([user_map[uid] for uid in users_df[\"userId\"]], dtype=torch.long)\n",
    "# event_ids = torch.tensor([event_map[eid] for eid in events_df[\"id\"]], dtype=torch.long)\n",
    "# targets = interaction_matrix[user_ids, event_ids]\n",
    "\n",
    "user_ids, event_ids = torch.meshgrid(\n",
    "    torch.arange(num_users), torch.arange(num_events), indexing=\"ij\"\n",
    ")\n",
    "user_ids, event_ids = user_ids.flatten(), event_ids.flatten()\n",
    "targets = interaction_matrix[user_ids, event_ids]\n",
    "\n",
    "# Train Model\n",
    "losses = []\n",
    "for epoch in range(100):\n",
    "    model.train()\n",
    "    optimizer.zero_grad()\n",
    "    preds = model(user_ids, event_ids)\n",
    "    loss = loss_fn(preds, targets)\n",
    "    loss.backward()\n",
    "    optimizer.step()\n",
    "\n",
    "    losses.append(loss.item())\n",
    "\n",
    "# Predict Recommendations\n",
    "model.eval()\n",
    "\n",
    "# def new_func(recommended_events):\n",
    "#     recommended_events = recommended_events.sort_values(by=\"score\", ascending=False)\n",
    "#     return recommended_events\n",
    "\n",
    "with torch.no_grad():\n",
    "    scores = model(user_ids, event_ids)\n",
    "\n",
    "    # Reshape scores into a DataFrame format\n",
    "    score_matrix = scores.view(num_users, num_events).numpy()  # Reshape into (users x events)\n",
    "\n",
    "    preds = model(user_ids, event_ids).numpy()\n",
    "    targets_np = targets.numpy()\n",
    "\n",
    "    # Create a recommendations DataFrame\n",
    "    recommendations = []\n",
    "    for i, user_id in enumerate(users_df[\"userId\"]):\n",
    "        user_scores = score_matrix[i]\n",
    "        user_recommendations = pd.DataFrame({\n",
    "            \"userId\": user_id,\n",
    "            \"eventId\": events_df[\"id\"],\n",
    "            \"eventName\": events_df[\"name\"],\n",
    "            \"score\": user_scores\n",
    "        }).sort_values(by=\"score\", ascending=False)  # Sort by score\n",
    "\n",
    "        recommendations.append(user_recommendations)\n",
    "\n",
    "    recommended_events = pd.concat(recommendations)\n",
    "\n",
    "rmse = np.sqrt(mean_squared_error(targets_np, preds))\n",
    "mae = mean_absolute_error(targets_np, preds)\n",
    "\n",
    "print(f\"RMSE: {rmse:.4f}\")\n",
    "print(f\"MAE: {mae:.4f}\")\n",
    "\n",
    "print(recommended_events)"
   ]
  },
  {
   "cell_type": "code",
   "execution_count": 5,
   "id": "3b3d4954",
   "metadata": {},
   "outputs": [
    {
     "name": "stdout",
     "output_type": "stream",
     "text": [
      "torch.Size([12]) torch.Size([12])\n"
     ]
    }
   ],
   "source": [
    "print(user_ids.shape, event_ids.shape)"
   ]
  },
  {
   "cell_type": "code",
   "execution_count": 6,
   "id": "ab82adbc",
   "metadata": {},
   "outputs": [
    {
     "data": {
      "image/png": "[encoded data removed]",
      "text/plain": [
       "<Figure size 640x480 with 1 Axes>"
      ]
     },
     "metadata": {},
     "output_type": "display_data"
    }
   ],
   "source": [
    "# %pip install matplotlib\n",
    "import matplotlib.pyplot as plt\n",
    "\n",
    "plt.plot(range(1, 101), losses, label=\"Training Loss\")\n",
    "plt.xlabel(\"Epoch\")\n",
    "plt.ylabel(\"Loss\")\n",
    "plt.title(\"Loss Function over Epochs\")\n",
    "plt.legend()\n",
    "plt.show()"
   ]
  },
  {
   "cell_type": "code",
   "execution_count": 7,
   "id": "60c15cd0",
   "metadata": {},
   "outputs": [
    {
     "data": {
      "text/plain": [
       "tensor([[0.9074, 0.9469, 0.3333],\n",
       "        [0.9907, 0.3899, 0.1527],\n",
       "        [0.6914, 0.1770, 0.5756],\n",
       "        [0.0427, 0.0222, 0.4577]])"
      ]
     },
     "execution_count": 7,
     "metadata": {},
     "output_type": "execute_result"
    }
   ],
   "source": [
    "interaction_matrix"
   ]
  },
  {
   "cell_type": "code",
   "execution_count": 8,
   "id": "a15c762a",
   "metadata": {},
   "outputs": [
    {
     "name": "stdout",
     "output_type": "stream",
     "text": [
      "User: 3c471470-f13c-465c-9c58-83e72a59acce\n",
      "                                 userId  eventId  \\\n",
      "0  3c471470-f13c-465c-9c58-83e72a59acce        2   \n",
      "1  3c471470-f13c-465c-9c58-83e72a59acce        3   \n",
      "2  3c471470-f13c-465c-9c58-83e72a59acce        4   \n",
      "\n",
      "                                    eventName     score  \n",
      "0                               Local Creator  0.991889  \n",
      "1  Rabbit Start Meetup: Quickathon ครั้งที่ 1  0.389633  \n",
      "2                          ECOSOC Youth Forum  0.153142  \n",
      "User: 4f957568-93d2-458c-b7d4-5a6e218ef97a\n",
      "                                 userId  eventId  \\\n",
      "2  4f957568-93d2-458c-b7d4-5a6e218ef97a        4   \n",
      "0  4f957568-93d2-458c-b7d4-5a6e218ef97a        2   \n",
      "1  4f957568-93d2-458c-b7d4-5a6e218ef97a        3   \n",
      "\n",
      "                                    eventName     score  \n",
      "2                          ECOSOC Youth Forum  0.457832  \n",
      "0                               Local Creator  0.041732  \n",
      "1  Rabbit Start Meetup: Quickathon ครั้งที่ 1  0.021431  \n",
      "User: 8c3e5a4e-bee2-4e99-b14e-32268889ae61\n",
      "                                 userId  eventId  \\\n",
      "1  8c3e5a4e-bee2-4e99-b14e-32268889ae61        3   \n",
      "0  8c3e5a4e-bee2-4e99-b14e-32268889ae61        2   \n",
      "2  8c3e5a4e-bee2-4e99-b14e-32268889ae61        4   \n",
      "\n",
      "                                    eventName     score  \n",
      "1  Rabbit Start Meetup: Quickathon ครั้งที่ 1  0.947011  \n",
      "0                               Local Creator  0.908354  \n",
      "2                          ECOSOC Youth Forum  0.332356  \n",
      "User: d5e35c09-dba0-48ad-b999-aff073fb180e\n",
      "                                 userId  eventId  \\\n",
      "0  d5e35c09-dba0-48ad-b999-aff073fb180e        2   \n",
      "2  d5e35c09-dba0-48ad-b999-aff073fb180e        4   \n",
      "1  d5e35c09-dba0-48ad-b999-aff073fb180e        3   \n",
      "\n",
      "                                    eventName     score  \n",
      "0                               Local Creator  0.692402  \n",
      "2                          ECOSOC Youth Forum  0.575458  \n",
      "1  Rabbit Start Meetup: Quickathon ครั้งที่ 1  0.176798  \n"
     ]
    }
   ],
   "source": [
    "grouped_events = recommended_events.groupby('userId')\n",
    "for user_id, group in grouped_events:\n",
    "    print(f\"User: {user_id}\")\n",
    "    print(group)"
   ]
  },
  {
   "cell_type": "code",
   "execution_count": 9,
   "id": "21e14025",
   "metadata": {},
   "outputs": [],
   "source": [
    "torch.save(model.state_dict(), \"ncf_model.pth\")"
   ]
  }
 ],
 "metadata": {
  "kernelspec": {
   "display_name": "venv",
   "language": "python",
   "name": "python3"
  },
  "language_info": {
   "codemirror_mode": {
    "name": "ipython",
    "version": 3
   },
   "file_extension": ".py",
   "mimetype": "text/x-python",
   "name": "python",
   "nbconvert_exporter": "python",
   "pygments_lexer": "ipython3",
   "version": "3.12.0"
  }
 },
 "nbformat": 4,
 "nbformat_minor": 5
}
